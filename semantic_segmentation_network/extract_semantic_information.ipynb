{
  "nbformat": 4,
  "nbformat_minor": 0,
  "metadata": {
    "colab": {
      "name": "seg_habitat.ipynb",
      "provenance": [],
      "collapsed_sections": []
    },
    "kernelspec": {
      "name": "python3",
      "display_name": "Python 3"
    },
    "language_info": {
      "name": "python"
    },
    "accelerator": "GPU"
  },
  "cells": [
    {
      "cell_type": "code",
      "metadata": {
        "id": "51-RWfpo1Wge",
        "colab": {
          "base_uri": "https://localhost:8080/"
        },
        "outputId": "15b33c01-83e5-42b8-fc3d-0c883e27b0e8"
      },
      "source": [
        "# Install PyTorch\n",
        "!pip install -U torch==1.5.0+cu101 torchvision==0.6.0+cu101 -f https://download.pytorch.org/whl/torch_stable.html\n",
        "# Install MMCV\n",
        "!pip install mmcv-full==latest+torch1.5.0+cu101 -f https://download.openmmlab.com/mmcv/dist/index.html"
      ],
      "execution_count": null,
      "outputs": [
        {
          "output_type": "stream",
          "text": [
            "Looking in links: https://download.pytorch.org/whl/torch_stable.html\n",
            "Collecting torch==1.5.0+cu101\n",
            "\u001b[?25l  Downloading https://download.pytorch.org/whl/cu101/torch-1.5.0%2Bcu101-cp37-cp37m-linux_x86_64.whl (703.8MB)\n",
            "\u001b[K     |████████████████████████████████| 703.8MB 26kB/s \n",
            "\u001b[?25hCollecting torchvision==0.6.0+cu101\n",
            "\u001b[?25l  Downloading https://download.pytorch.org/whl/cu101/torchvision-0.6.0%2Bcu101-cp37-cp37m-linux_x86_64.whl (6.6MB)\n",
            "\u001b[K     |████████████████████████████████| 6.6MB 32.7MB/s \n",
            "\u001b[?25hRequirement already satisfied, skipping upgrade: numpy in /usr/local/lib/python3.7/dist-packages (from torch==1.5.0+cu101) (1.19.5)\n",
            "Requirement already satisfied, skipping upgrade: future in /usr/local/lib/python3.7/dist-packages (from torch==1.5.0+cu101) (0.16.0)\n",
            "Requirement already satisfied, skipping upgrade: pillow>=4.1.1 in /usr/local/lib/python3.7/dist-packages (from torchvision==0.6.0+cu101) (7.1.2)\n",
            "\u001b[31mERROR: torchtext 0.9.1 has requirement torch==1.8.1, but you'll have torch 1.5.0+cu101 which is incompatible.\u001b[0m\n",
            "Installing collected packages: torch, torchvision\n",
            "  Found existing installation: torch 1.8.1+cu101\n",
            "    Uninstalling torch-1.8.1+cu101:\n",
            "      Successfully uninstalled torch-1.8.1+cu101\n",
            "  Found existing installation: torchvision 0.9.1+cu101\n",
            "    Uninstalling torchvision-0.9.1+cu101:\n",
            "      Successfully uninstalled torchvision-0.9.1+cu101\n",
            "Successfully installed torch-1.5.0+cu101 torchvision-0.6.0+cu101\n",
            "Looking in links: https://download.openmmlab.com/mmcv/dist/index.html\n",
            "Collecting mmcv-full==latest+torch1.5.0+cu101\n",
            "\u001b[?25l  Downloading https://download.openmmlab.com/mmcv/dist/1.3.2/torch1.5.0/cu101/mmcv_full-latest%2Btorch1.5.0%2Bcu101-cp37-cp37m-manylinux1_x86_64.whl (27.5MB)\n",
            "\u001b[K     |████████████████████████████████| 27.5MB 108kB/s \n",
            "\u001b[?25hRequirement already satisfied: Pillow in /usr/local/lib/python3.7/dist-packages (from mmcv-full==latest+torch1.5.0+cu101) (7.1.2)\n",
            "Collecting addict\n",
            "  Downloading https://files.pythonhosted.org/packages/6a/00/b08f23b7d7e1e14ce01419a467b583edbb93c6cdb8654e54a9cc579cd61f/addict-2.4.0-py3-none-any.whl\n",
            "Requirement already satisfied: numpy in /usr/local/lib/python3.7/dist-packages (from mmcv-full==latest+torch1.5.0+cu101) (1.19.5)\n",
            "Collecting yapf\n",
            "\u001b[?25l  Downloading https://files.pythonhosted.org/packages/5f/0d/8814e79eb865eab42d95023b58b650d01dec6f8ea87fc9260978b1bf2167/yapf-0.31.0-py2.py3-none-any.whl (185kB)\n",
            "\u001b[K     |████████████████████████████████| 194kB 10.5MB/s \n",
            "\u001b[?25hRequirement already satisfied: opencv-python>=3 in /usr/local/lib/python3.7/dist-packages (from mmcv-full==latest+torch1.5.0+cu101) (4.1.2.30)\n",
            "Requirement already satisfied: pyyaml in /usr/local/lib/python3.7/dist-packages (from mmcv-full==latest+torch1.5.0+cu101) (3.13)\n",
            "Installing collected packages: addict, yapf, mmcv-full\n",
            "Successfully installed addict-2.4.0 mmcv-full-1.3.2 yapf-0.31.0\n"
          ],
          "name": "stdout"
        }
      ]
    },
    {
      "cell_type": "code",
      "metadata": {
        "id": "0qFycpoI1X3e",
        "colab": {
          "base_uri": "https://localhost:8080/"
        },
        "outputId": "060e35a7-1dec-4e57-8bea-3cac157f328f"
      },
      "source": [
        "!rm -rf mmsegmentation\n",
        "!git clone https://github.com/open-mmlab/mmsegmentation.git \n",
        "%cd mmsegmentation\n",
        "!pip install -e .\n",
        "!mkdir checkpoints"
      ],
      "execution_count": null,
      "outputs": [
        {
          "output_type": "stream",
          "text": [
            "Cloning into 'mmsegmentation'...\n",
            "remote: Enumerating objects: 2547, done.\u001b[K\n",
            "remote: Counting objects: 100% (104/104), done.\u001b[K\n",
            "remote: Compressing objects: 100% (88/88), done.\u001b[K\n",
            "remote: Total 2547 (delta 34), reused 58 (delta 15), pack-reused 2443\u001b[K\n",
            "Receiving objects: 100% (2547/2547), 4.70 MiB | 18.36 MiB/s, done.\n",
            "Resolving deltas: 100% (1811/1811), done.\n",
            "/content/mmsegmentation\n",
            "Obtaining file:///content/mmsegmentation\n",
            "Requirement already satisfied: matplotlib in /usr/local/lib/python3.7/dist-packages (from mmsegmentation==0.12.0) (3.2.2)\n",
            "Requirement already satisfied: numpy in /usr/local/lib/python3.7/dist-packages (from mmsegmentation==0.12.0) (1.19.5)\n",
            "Requirement already satisfied: prettytable in /usr/local/lib/python3.7/dist-packages (from mmsegmentation==0.12.0) (2.1.0)\n",
            "Requirement already satisfied: python-dateutil>=2.1 in /usr/local/lib/python3.7/dist-packages (from matplotlib->mmsegmentation==0.12.0) (2.8.1)\n",
            "Requirement already satisfied: pyparsing!=2.0.4,!=2.1.2,!=2.1.6,>=2.0.1 in /usr/local/lib/python3.7/dist-packages (from matplotlib->mmsegmentation==0.12.0) (2.4.7)\n",
            "Requirement already satisfied: cycler>=0.10 in /usr/local/lib/python3.7/dist-packages (from matplotlib->mmsegmentation==0.12.0) (0.10.0)\n",
            "Requirement already satisfied: kiwisolver>=1.0.1 in /usr/local/lib/python3.7/dist-packages (from matplotlib->mmsegmentation==0.12.0) (1.3.1)\n",
            "Requirement already satisfied: wcwidth in /usr/local/lib/python3.7/dist-packages (from prettytable->mmsegmentation==0.12.0) (0.2.5)\n",
            "Requirement already satisfied: importlib-metadata; python_version < \"3.8\" in /usr/local/lib/python3.7/dist-packages (from prettytable->mmsegmentation==0.12.0) (3.10.1)\n",
            "Requirement already satisfied: six>=1.5 in /usr/local/lib/python3.7/dist-packages (from python-dateutil>=2.1->matplotlib->mmsegmentation==0.12.0) (1.15.0)\n",
            "Requirement already satisfied: typing-extensions>=3.6.4; python_version < \"3.8\" in /usr/local/lib/python3.7/dist-packages (from importlib-metadata; python_version < \"3.8\"->prettytable->mmsegmentation==0.12.0) (3.7.4.3)\n",
            "Requirement already satisfied: zipp>=0.5 in /usr/local/lib/python3.7/dist-packages (from importlib-metadata; python_version < \"3.8\"->prettytable->mmsegmentation==0.12.0) (3.4.1)\n",
            "Installing collected packages: mmsegmentation\n",
            "  Running setup.py develop for mmsegmentation\n",
            "Successfully installed mmsegmentation\n"
          ],
          "name": "stdout"
        }
      ]
    },
    {
      "cell_type": "code",
      "metadata": {
        "colab": {
          "base_uri": "https://localhost:8080/"
        },
        "id": "Cc-YePeg1ZrN",
        "outputId": "16636b2f-3399-402c-c238-f19a6ad54f11"
      },
      "source": [
        "# Check Pytorch installation\n",
        "import torch, torchvision\n",
        "print(torch.__version__, torch.cuda.is_available())\n",
        "\n",
        "# Check MMSegmentation installation\n",
        "import mmseg\n",
        "print(mmseg.__version__)"
      ],
      "execution_count": null,
      "outputs": [
        {
          "output_type": "stream",
          "text": [
            "1.5.0+cu101 True\n",
            "0.12.0\n"
          ],
          "name": "stdout"
        }
      ]
    },
    {
      "cell_type": "code",
      "metadata": {
        "id": "I-wYb4b94-nL",
        "colab": {
          "base_uri": "https://localhost:8080/"
        },
        "outputId": "2c1df408-9320-4cb8-8213-3d56030564a7"
      },
      "source": [
        "!wget https://download.openmmlab.com/mmsegmentation/v0.5/pspnet/pspnet_r101-d8_512x512_160k_ade20k/pspnet_r101-d8_512x512_160k_ade20k_20200615_100650-967c316f.pth -P /content/mmsegmentation/checkpoints"
      ],
      "execution_count": null,
      "outputs": [
        {
          "output_type": "stream",
          "text": [
            "--2021-05-04 15:44:39--  https://download.openmmlab.com/mmsegmentation/v0.5/pspnet/pspnet_r101-d8_512x512_160k_ade20k/pspnet_r101-d8_512x512_160k_ade20k_20200615_100650-967c316f.pth\n",
            "Resolving download.openmmlab.com (download.openmmlab.com)... 47.254.186.225\n",
            "Connecting to download.openmmlab.com (download.openmmlab.com)|47.254.186.225|:443... connected.\n",
            "HTTP request sent, awaiting response... 200 OK\n",
            "Length: 272850621 (260M) [application/octet-stream]\n",
            "Saving to: ‘/content/mmsegmentation/checkpoints/pspnet_r101-d8_512x512_160k_ade20k_20200615_100650-967c316f.pth’\n",
            "\n",
            "pspnet_r101-d8_512x 100%[===================>] 260.21M  3.17MB/s    in 83s     \n",
            "\n",
            "2021-05-04 15:46:03 (3.15 MB/s) - ‘/content/mmsegmentation/checkpoints/pspnet_r101-d8_512x512_160k_ade20k_20200615_100650-967c316f.pth’ saved [272850621/272850621]\n",
            "\n"
          ],
          "name": "stdout"
        }
      ]
    },
    {
      "cell_type": "code",
      "metadata": {
        "id": "bgc4NBtRUX8n"
      },
      "source": [
        "dataset_list = [\n",
        "  '2azQ1b91cZZ_level_0', \n",
        "  '8194nk5LbLH_level_0',\n",
        "  'EU6Fwq7SyZv_level_0',\n",
        "  'QUCTc6BB5sX_level_0',\n",
        "  'TbHJrupSAjP_level_0',\n",
        "  'X7HyMhZNoso_level_0',\n",
        "  'x8F5xyUWy9e_level_0',\n",
        "  'zsNo4HB9uLZ_level_0'\n",
        " ]"
      ],
      "execution_count": null,
      "outputs": []
    },
    {
      "cell_type": "code",
      "metadata": {
        "colab": {
          "base_uri": "https://localhost:8080/"
        },
        "id": "8Af1iKCBUvEP",
        "outputId": "b83f3635-d172-4b9b-fb72-a51d66e85759"
      },
      "source": [
        "dataset_list"
      ],
      "execution_count": null,
      "outputs": [
        {
          "output_type": "execute_result",
          "data": {
            "text/plain": [
              "['8194nk5LbLH_level_0',\n",
              " 'EU6Fwq7SyZv_level_0',\n",
              " 'QUCTc6BB5sX_level_0',\n",
              " 'TbHJrupSAjP_level_0',\n",
              " 'X7HyMhZNoso_level_0',\n",
              " 'x8F5xyUWy9e_level_0',\n",
              " 'zsNo4HB9uLZ_level_0']"
            ]
          },
          "metadata": {
            "tags": []
          },
          "execution_count": 11
        }
      ]
    },
    {
      "cell_type": "code",
      "metadata": {
        "id": "7MKaFydu1ba_"
      },
      "source": [
        "from mmseg.apis import inference_segmentor, init_segmentor, show_result_pyplot\n",
        "from mmseg.core.evaluation import get_palette\n",
        "from os import listdir\n",
        "import pandas as pd\n",
        "from os import path\n",
        "from PIL import Image\n",
        "import numpy as np\n",
        "from google.colab import files"
      ],
      "execution_count": null,
      "outputs": []
    },
    {
      "cell_type": "code",
      "metadata": {
        "id": "Mh-rsmR_1kqy"
      },
      "source": [
        "PATH_TO_CHECKPOINT_FILE = \"/content/mmsegmentation/checkpoints/pspnet_r101-d8_512x512_160k_ade20k_20200615_100650-967c316f.pth\"\n",
        "PATH_TO_NET_CONFIG = \"/content/mmsegmentation/configs/pspnet/pspnet_r101-d8_512x512_160k_ade20k.py\"\n",
        "WALL = [120,120,120]\n",
        "FLOOR = [80,50,50]\n",
        "\n",
        "model = init_segmentor(PATH_TO_NET_CONFIG, PATH_TO_CHECKPOINT_FILE , device='cuda:0')\n",
        "\n",
        "for house in dataset_list: \n",
        "  PATH_TO_DRIVE = f\"/content/drive/MyDrive/dataset/{house}.zip\"\n",
        "  !unzip $PATH_TO_DRIVE -d /content/\n",
        "  PATH_TO_IMAGES_TO_SEGMENT = f\"/content/{house}/RGB/\"\n",
        "  PATH_TO_IMG_OUT = f'/content/img_out_{house}/'\n",
        "  PATH_TO_NUMPY_FILES = f'/content/semantic_{house}/'\n",
        "  file_list = listdir(PATH_TO_IMAGES_TO_SEGMENT)\n",
        "  images_list = [i for i in file_list if i.endswith('.png')]\n",
        "\n",
        "  if not path.isdir(PATH_TO_IMG_OUT):\n",
        "    for iter, image_name in enumerate(images_list): \n",
        "      print(f\"Image n. {iter}\")\n",
        "      image = PATH_TO_IMAGES_TO_SEGMENT + image_name\n",
        "      print(f\"Inferecing image: {image_name}\")\n",
        "      result = inference_segmentor(model,image)\n",
        "      out_file_name = PATH_TO_IMG_OUT + image_name\n",
        "      model.show_result(image, result, out_file=out_file_name, opacity=1)\n",
        "\n",
        "  PATH_TO_IMG_OUT_ZIP = f'/content/img_out_{house}'\n",
        "  zip_name = f\"{PATH_TO_IMG_OUT_ZIP}.zip\"\n",
        "  !zip -r $zip_name $PATH_TO_IMG_OUT_ZIP\n",
        "\n",
        "  file_list = listdir(PATH_TO_IMG_OUT)\n",
        "  images_list = [i for i in file_list if i.endswith('.png')]\n",
        "\n",
        "  if not path.isdir(PATH_TO_NUMPY_FILES):\n",
        "    !mkdir $PATH_TO_NUMPY_FILES\n",
        "    for iter, image_name in enumerate(images_list): \n",
        "      print(f\"Image n. {iter}\")\n",
        "      image_path = PATH_TO_IMG_OUT + image_name\n",
        "      image = Image.open(image_path)\n",
        "      data = np.asarray(image)\n",
        "      #create semantic matrix, 0=wall,1=floor,2=undefined. \n",
        "      print(f\"Transforming image: {image_name} in semantic\")\n",
        "      semantic = np.select(condlist=[np.all(data == WALL,axis = 2),np.all(data == FLOOR,axis = 2)], \n",
        "                              choicelist=[0,1],\n",
        "                              default = 2)\n",
        "      file_name = image_name.replace(\".png\", '.npy')\n",
        "      np.save(PATH_TO_NUMPY_FILES + file_name, semantic)\n",
        "\n",
        "  PATH_TO_NUMPY_FILES_ZIP = f'/content/semantic_{house}'\n",
        "  semantic_zip_file_name = f\"{PATH_TO_NUMPY_FILES_ZIP}.zip\"\n",
        "  !zip -r $semantic_zip_file_name $PATH_TO_NUMPY_FILES_ZIP\n",
        "\n",
        "  PATH_TO_HOUSE = f\"/content/{house}\"\n",
        "  \n",
        "  !rm -rf $PATH_TO_IMG_OUT.zip\n",
        "  !rm -rf $PATH_TO_IMG_OUT\n",
        "  !rm -rf $PATH_TO_NUMPY_FILES.zip\n",
        "  !rm -rf $PATH_TO_NUMPY_FILES\n",
        "  !rm -rf $PATH_TO_HOUSE"
      ],
      "execution_count": null,
      "outputs": []
    }
  ]
}